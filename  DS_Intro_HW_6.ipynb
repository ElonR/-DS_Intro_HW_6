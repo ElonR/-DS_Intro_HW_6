{
 "cells": [
  {
   "cell_type": "code",
   "execution_count": 46,
   "id": "04481fdc",
   "metadata": {},
   "outputs": [],
   "source": [
    "import pandas as pd\n",
    "import json\n",
    "import requests\n",
    "from bs4 import BeautifulSoup\n",
    "import matplotlib.pyplot as plt"
   ]
  },
  {
   "cell_type": "code",
   "execution_count": 3,
   "id": "c089a7a8",
   "metadata": {},
   "outputs": [],
   "source": [
    "df=pd.read_csv(\"LP_destinations.csv\", encoding='ISO-8859-1')"
   ]
  },
  {
   "cell_type": "code",
   "execution_count": 4,
   "id": "6a935de6",
   "metadata": {},
   "outputs": [],
   "source": [
    "df[\"num_of_words\"] = df[\"Description\"].str.split().str.len()"
   ]
  },
  {
   "cell_type": "code",
   "execution_count": 5,
   "id": "49d7b22c",
   "metadata": {
    "scrolled": false
   },
   "outputs": [
    {
     "name": "stderr",
     "output_type": "stream",
     "text": [
      "C:\\Users\\97250\\AppData\\Local\\Temp/ipykernel_16584/1627568700.py:1: FutureWarning: The default value of regex will change from True to False in a future version.\n",
      "  df[\"No_punct_description\"] = df[\"Description\"].str.replace(r'[^\\w\\s]', '').str.replace('\\n', '')\n"
     ]
    }
   ],
   "source": [
    "df[\"No_punct_description\"] = df[\"Description\"].str.replace(r'[^\\w\\s]', '').str.replace('\\n', '')"
   ]
  },
  {
   "cell_type": "code",
   "execution_count": 6,
   "id": "f7b7e5cd",
   "metadata": {
    "scrolled": false
   },
   "outputs": [],
   "source": [
    "df[\"has_restaurants\"] = df[\"Description\"].str.count(\"restaurants\")"
   ]
  },
  {
   "cell_type": "code",
   "execution_count": 7,
   "id": "719384c6",
   "metadata": {},
   "outputs": [],
   "source": [
    "df[\"has_museums\"] = df[\"Description\"].str.count(\"museums\") "
   ]
  },
  {
   "cell_type": "code",
   "execution_count": 8,
   "id": "08d51eee",
   "metadata": {},
   "outputs": [],
   "source": [
    "df[\"has_beaches\"] = df[\"Description\"].str.count(\"sea\") + df[\"Description\"].str.count(\"ocean\") + df[\"Description\"].str.count(\"beach\")"
   ]
  },
  {
   "cell_type": "code",
   "execution_count": 15,
   "id": "69369515",
   "metadata": {},
   "outputs": [
    {
     "data": {
      "text/plain": [
       "49.14473684210526"
      ]
     },
     "execution_count": 15,
     "metadata": {},
     "output_type": "execute_result"
    }
   ],
   "source": [
    "df[\"num_of_words\"].mean()"
   ]
  },
  {
   "cell_type": "code",
   "execution_count": 45,
   "id": "1e6b59c0",
   "metadata": {},
   "outputs": [
    {
     "data": {
      "text/plain": [
       "'Sofia'"
      ]
     },
     "execution_count": 45,
     "metadata": {},
     "output_type": "execute_result"
    }
   ],
   "source": [
    "df.loc[df['num_of_words'].idxmax(),'city']"
   ]
  },
  {
   "cell_type": "code",
   "execution_count": 49,
   "id": "5970affc",
   "metadata": {},
   "outputs": [
    {
     "data": {
      "image/png": "[encoded data removed]",
      "text/plain": [
       "<Figure size 432x288 with 1 Axes>"
      ]
     },
     "metadata": {
      "needs_background": "light"
     },
     "output_type": "display_data"
    }
   ],
   "source": [
    "plt.hist(df['num_of_words'])\n",
    "plt.show()"
   ]
  },
  {
   "cell_type": "code",
   "execution_count": 57,
   "id": "b93c5007",
   "metadata": {},
   "outputs": [
    {
     "data": {
      "image/png": "[encoded data removed]",
      "text/plain": [
       "<Figure size 432x288 with 1 Axes>"
      ]
     },
     "metadata": {
      "needs_background": "light"
     },
     "output_type": "display_data"
    }
   ],
   "source": [
    "plt.scatter(df[\"Description\"].str.count(\"beach\"), df[\"Description\"].str.count(\"restaurants\"), c =\"blue\")\n",
    "plt.xlabel(\"beach\")\n",
    "plt.ylabel(\"restaurants\")\n",
    "plt.show()"
   ]
  },
  {
   "cell_type": "code",
   "execution_count": 55,
   "id": "99354016",
   "metadata": {},
   "outputs": [
    {
     "data": {
      "image/png": "[encoded data removed]",
      "text/plain": [
       "<Figure size 432x288 with 1 Axes>"
      ]
     },
     "metadata": {
      "needs_background": "light"
     },
     "output_type": "display_data"
    }
   ],
   "source": [
    "plt.scatter(df[\"Description\"].str.count(\"museums\"), df[\"Description\"].str.count(\"beach\"), c =\"blue\")\n",
    "plt.xlabel(\"museums\")\n",
    "plt.ylabel(\"beach\")\n",
    "plt.show()"
   ]
  }
 ],
 "metadata": {
  "kernelspec": {
   "display_name": "Python 3 (ipykernel)",
   "language": "python",
   "name": "python3"
  },
  "language_info": {
   "codemirror_mode": {
    "name": "ipython",
    "version": 3
   },
   "file_extension": ".py",
   "mimetype": "text/x-python",
   "name": "python",
   "nbconvert_exporter": "python",
   "pygments_lexer": "ipython3",
   "version": "3.9.7"
  }
 },
 "nbformat": 4,
 "nbformat_minor": 5
}
